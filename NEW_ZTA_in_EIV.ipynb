{
 "cells": [
  {
   "cell_type": "markdown",
   "id": "d866b2a5",
   "metadata": {},
   "source": [
    "# Imports"
   ]
  },
  {
   "cell_type": "code",
   "execution_count": 45,
   "id": "279369b1",
   "metadata": {},
   "outputs": [],
   "source": [
    "import numpy as np\n",
    "import pandas as pd\n",
    "import tensorflow as tf\n",
    "from tensorflow.keras import layers, models, backend as K\n",
    "from tensorflow.keras.metrics import Precision, Recall\n",
    "from tensorflow.keras.callbacks import EarlyStopping\n",
    "from sklearn.model_selection import train_test_split\n",
    "from sklearn.preprocessing import MinMaxScaler\n",
    "from sklearn.utils import resample\n",
    "from sklearn.metrics import accuracy_score, precision_score, recall_score, f1_score, classification_report, confusion_matrix\n",
    "import matplotlib.pyplot as plt\n",
    "import seaborn as sns"
   ]
  },
  {
   "cell_type": "markdown",
   "id": "265f6d89",
   "metadata": {},
   "source": [
    "# Configuration"
   ]
  },
  {
   "cell_type": "code",
   "execution_count": 32,
   "id": "2cd1b05e",
   "metadata": {},
   "outputs": [],
   "source": [
    "np.random.seed(42)\n",
    "tf.random.set_seed(42)"
   ]
  },
  {
   "cell_type": "markdown",
   "id": "1775c1ba",
   "metadata": {},
   "source": [
    "# Custom Layers & Loss"
   ]
  },
  {
   "cell_type": "code",
   "execution_count": 33,
   "id": "7525af71",
   "metadata": {},
   "outputs": [],
   "source": [
    "class F1Score(tf.keras.metrics.Metric):\n",
    "    def __init__(self, name='f1_score', **kwargs):\n",
    "        super().__init__(name=name, **kwargs)\n",
    "        self.precision = Precision()\n",
    "        self.recall = Recall()\n",
    "    def update_state(self, y_true, y_pred, sample_weight=None):\n",
    "        self.precision.update_state(y_true, y_pred, sample_weight)\n",
    "        self.recall.update_state(y_true, y_pred, sample_weight)\n",
    "    def result(self):\n",
    "        p = self.precision.result()\n",
    "        r = self.recall.result()\n",
    "        return 2 * ((p * r) / (p + r + K.epsilon()))\n",
    "    def reset_state(self):\n",
    "        self.precision.reset_state()\n",
    "        self.recall.reset_state()"
   ]
  },
  {
   "cell_type": "code",
   "execution_count": null,
   "id": "09fe350c",
   "metadata": {},
   "outputs": [],
   "source": [
    "class FocalLoss(tf.keras.losses.Loss):\n",
    "    def __init__(self, alpha=0.25, gamma=2.0):\n",
    "        super().__init__()\n",
    "        self.alpha = alpha\n",
    "        self.gamma = gamma\n",
    "\n",
    "    def call(self, y_true, y_pred):\n",
    "        y_true = tf.cast(y_true, tf.float32) \n",
    "        y_pred = K.clip(y_pred, K.epsilon(), 1.0 - K.epsilon())\n",
    "        ce = -y_true * K.log(y_pred)\n",
    "        loss = self.alpha * K.pow(1.0 - y_pred, self.gamma) * ce\n",
    "        return K.mean(loss, axis=-1)\n"
   ]
  },
  {
   "cell_type": "code",
   "execution_count": 35,
   "id": "f002e891",
   "metadata": {},
   "outputs": [],
   "source": [
    "class AttentionLayer(tf.keras.layers.Layer):\n",
    "    def __init__(self, **kwargs):\n",
    "        super(AttentionLayer, self).__init__(**kwargs)\n",
    "\n",
    "    def build(self, input_shape):\n",
    "        self.W = self.add_weight(name='att_weight',\n",
    "                                 shape=(input_shape[-1], input_shape[-1]),\n",
    "                                 initializer='glorot_uniform',\n",
    "                                 trainable=True)\n",
    "        self.b = self.add_weight(name='att_bias',\n",
    "                                 shape=(input_shape[-1],),\n",
    "                                 initializer='zeros',\n",
    "                                 trainable=True)\n",
    "        self.u = self.add_weight(name='att_u',\n",
    "                                 shape=(input_shape[-1], 1),\n",
    "                                 initializer='glorot_uniform',\n",
    "                                 trainable=True)\n",
    "        super(AttentionLayer, self).build(input_shape)\n",
    "\n",
    "    def call(self, x):\n",
    "        uit = K.tanh(K.bias_add(K.dot(x, self.W), self.b)) \n",
    "        ait = K.dot(uit, self.u)                            \n",
    "        ait = K.squeeze(ait, -1)                            \n",
    "        a = K.softmax(ait)                                  \n",
    "        a = K.expand_dims(a, -1)                            \n",
    "        return K.sum(x * a, axis=1)                         \n"
   ]
  },
  {
   "cell_type": "code",
   "execution_count": 36,
   "id": "2df26b78",
   "metadata": {},
   "outputs": [],
   "source": [
    "def jitter(x, sigma=0.03): return x + np.random.normal(0., sigma, x.shape)"
   ]
  },
  {
   "cell_type": "markdown",
   "id": "767f35ae",
   "metadata": {},
   "source": [
    "# Load & Preprocess Data"
   ]
  },
  {
   "cell_type": "code",
   "execution_count": 37,
   "id": "7cc18ad2",
   "metadata": {},
   "outputs": [],
   "source": [
    "can_data = pd.read_csv(r\"G:\\road\\signal_extractions\\attacks\\correlated_signal_attack_1_masquerade.csv\")\n",
    "can_data.fillna(0, inplace=True)\n",
    "\n",
    "signal_columns = [col for col in can_data.columns if \"Signal\" in col]\n",
    "can_data['Time'] = pd.to_datetime(can_data['Time'], unit='s')\n",
    "can_data = can_data.sort_values('Time').set_index('Time')\n",
    "can_data[signal_columns] = can_data[signal_columns].apply(pd.to_numeric, errors='coerce')\n",
    "can_data = can_data.resample('100us').mean().interpolate(method='cubic').reset_index()\n"
   ]
  },
  {
   "cell_type": "markdown",
   "id": "e2cb72b2",
   "metadata": {},
   "source": [
    "#  Sliding Window Creation"
   ]
  },
  {
   "cell_type": "code",
   "execution_count": 38,
   "id": "2ac92f64",
   "metadata": {},
   "outputs": [],
   "source": [
    "def create_time_series(data, window_size, step_size):\n",
    "    sequences, labels = [], []\n",
    "    for i in range(0, len(data) - window_size, step_size):\n",
    "        window = data.iloc[i:i + window_size]\n",
    "        sequences.append(window[signal_columns].values)\n",
    "        labels.append(1 if (window['Label'].sum() > 0) else 0)\n",
    "    return np.array(sequences), np.array(labels)"
   ]
  },
  {
   "cell_type": "code",
   "execution_count": 39,
   "id": "a0bb1314",
   "metadata": {},
   "outputs": [],
   "source": [
    "sampling_rate = 10000\n",
    "window_size = 10\n",
    "step_size = 1\n",
    "X, y = create_time_series(can_data, window_size, step_size)"
   ]
  },
  {
   "cell_type": "markdown",
   "id": "3d8b43b1",
   "metadata": {},
   "source": [
    "# SPLIT + SCALING"
   ]
  },
  {
   "cell_type": "code",
   "execution_count": 40,
   "id": "51e90e42",
   "metadata": {},
   "outputs": [],
   "source": [
    "X_train, X_test, y_train, y_test = train_test_split(X, y, test_size=0.2, random_state=42)\n",
    "X_train = np.nan_to_num(X_train)\n",
    "X_test = np.nan_to_num(X_test)"
   ]
  },
  {
   "cell_type": "code",
   "execution_count": 41,
   "id": "d7f7bbb9",
   "metadata": {},
   "outputs": [],
   "source": [
    "scaler = MinMaxScaler()\n",
    "X_train = scaler.fit_transform(X_train.reshape(-1, X_train.shape[-1])).reshape(X_train.shape)\n",
    "X_test = scaler.transform(X_test.reshape(-1, X_test.shape[-1])).reshape(X_test.shape)\n"
   ]
  },
  {
   "cell_type": "markdown",
   "id": "0eac1b5c",
   "metadata": {},
   "source": [
    "Oversampling minority"
   ]
  },
  {
   "cell_type": "code",
   "execution_count": 42,
   "id": "706bebc6",
   "metadata": {},
   "outputs": [],
   "source": [
    "train_df = pd.DataFrame(X_train.reshape(X_train.shape[0], -1))\n",
    "train_df['label'] = y_train\n",
    "majority = train_df[train_df['label'] == 0]\n",
    "minority = train_df[train_df['label'] == 1]\n",
    "minority_upsampled = resample(minority, replace=True, n_samples=len(majority), random_state=42)\n",
    "balanced = pd.concat([majority, minority_upsampled])\n",
    "X_train = balanced.drop('label', axis=1).values.reshape(-1, X_train.shape[1], X_train.shape[2])\n",
    "y_train = balanced['label'].values"
   ]
  },
  {
   "cell_type": "markdown",
   "id": "9804533a",
   "metadata": {},
   "source": [
    "# Models"
   ]
  },
  {
   "cell_type": "code",
   "execution_count": 43,
   "id": "7dbcd0f6",
   "metadata": {},
   "outputs": [],
   "source": [
    "def build_model(attention=False):\n",
    "    inputs = tf.keras.Input(shape=(X_train.shape[1], X_train.shape[2]))\n",
    "    x = layers.Conv1D(64, 3, activation='relu', padding='same')(inputs)\n",
    "    x = layers.MaxPooling1D(2)(x)\n",
    "    x = layers.Dropout(0.2)(x)\n",
    "    x = layers.LSTM(64, return_sequences=True)(x)\n",
    "    x = layers.Dropout(0.3)(x)\n",
    "    x = layers.LSTM(32, return_sequences=attention)(x)\n",
    "    if attention:\n",
    "        x = AttentionLayer()(x)\n",
    "    x = layers.Dense(32, activation='relu')(x)\n",
    "    x = layers.Dropout(0.2)(x)\n",
    "    outputs = layers.Dense(1, activation='sigmoid')(x)\n",
    "    return models.Model(inputs, outputs)"
   ]
  },
  {
   "cell_type": "markdown",
   "id": "4ac34ae7",
   "metadata": {},
   "source": [
    "# Training"
   ]
  },
  {
   "cell_type": "code",
   "execution_count": 46,
   "id": "f434e298",
   "metadata": {},
   "outputs": [
    {
     "name": "stdout",
     "output_type": "stream",
     "text": [
      "Epoch 1/20\n",
      "5162/5162 - 85s - loss: 0.6913 - accuracy: 0.5159 - precision_8: 0.5176 - recall_8: 0.4662 - f1_score: 0.4906 - val_loss: 0.6855 - val_accuracy: 0.6312 - val_precision_8: 0.9206 - val_recall_8: 0.0214 - val_f1_score: 0.0418 - 85s/epoch - 16ms/step\n",
      "Epoch 2/20\n",
      "5162/5162 - 77s - loss: 0.6865 - accuracy: 0.5340 - precision_8: 0.5477 - recall_8: 0.3903 - f1_score: 0.4558 - val_loss: 0.6781 - val_accuracy: 0.6243 - val_precision_8: 0.8571 - val_recall_8: 0.0014 - val_f1_score: 0.0029 - 77s/epoch - 15ms/step\n",
      "Epoch 3/20\n",
      "5162/5162 - 71s - loss: 0.6775 - accuracy: 0.5516 - precision_8: 0.6023 - recall_8: 0.3039 - f1_score: 0.4040 - val_loss: 0.6810 - val_accuracy: 0.6242 - val_precision_8: 0.8750 - val_recall_8: 8.4341e-04 - val_f1_score: 0.0017 - 71s/epoch - 14ms/step\n",
      "Epoch 4/20\n",
      "5162/5162 - 71s - loss: 0.6627 - accuracy: 0.5841 - precision_8: 0.6599 - recall_8: 0.3473 - f1_score: 0.4551 - val_loss: 0.6594 - val_accuracy: 0.6244 - val_precision_8: 0.8333 - val_recall_8: 0.0016 - val_f1_score: 0.0032 - 71s/epoch - 14ms/step\n",
      "Epoch 5/20\n",
      "5162/5162 - 88s - loss: 0.6521 - accuracy: 0.6032 - precision_8: 0.6935 - recall_8: 0.3700 - f1_score: 0.4825 - val_loss: 0.6589 - val_accuracy: 0.6248 - val_precision_8: 0.8315 - val_recall_8: 0.0030 - val_f1_score: 0.0059 - 88s/epoch - 17ms/step\n",
      "Epoch 6/20\n",
      "5162/5162 - 81s - loss: 0.6470 - accuracy: 0.6119 - precision_8: 0.7090 - recall_8: 0.3795 - f1_score: 0.4944 - val_loss: 0.6553 - val_accuracy: 0.6252 - val_precision_8: 0.7750 - val_recall_8: 0.0050 - val_f1_score: 0.0099 - 81s/epoch - 16ms/step\n",
      "Epoch 7/20\n",
      "5162/5162 - 75s - loss: 0.6446 - accuracy: 0.6150 - precision_8: 0.7099 - recall_8: 0.3888 - f1_score: 0.5024 - val_loss: 0.6397 - val_accuracy: 0.6535 - val_precision_8: 0.9533 - val_recall_8: 0.0829 - val_f1_score: 0.1525 - 75s/epoch - 15ms/step\n",
      "Epoch 8/20\n",
      "5162/5162 - 83s - loss: 0.6441 - accuracy: 0.6165 - precision_8: 0.7053 - recall_8: 0.4003 - f1_score: 0.5107 - val_loss: 0.6306 - val_accuracy: 0.6603 - val_precision_8: 0.9561 - val_recall_8: 0.1014 - val_f1_score: 0.1833 - 83s/epoch - 16ms/step\n",
      "Epoch 9/20\n",
      "5162/5162 - 79s - loss: 0.6412 - accuracy: 0.6205 - precision_8: 0.7187 - recall_8: 0.3961 - f1_score: 0.5107 - val_loss: 0.6353 - val_accuracy: 0.6569 - val_precision_8: 0.9589 - val_recall_8: 0.0918 - val_f1_score: 0.1675 - 79s/epoch - 15ms/step\n",
      "Epoch 10/20\n",
      "5162/5162 - 78s - loss: 0.6391 - accuracy: 0.6222 - precision_8: 0.7175 - recall_8: 0.4030 - f1_score: 0.5161 - val_loss: 0.6236 - val_accuracy: 0.6791 - val_precision_8: 0.9095 - val_recall_8: 0.1631 - val_f1_score: 0.2765 - 78s/epoch - 15ms/step\n",
      "Epoch 11/20\n",
      "5162/5162 - 66s - loss: 0.6376 - accuracy: 0.6247 - precision_8: 0.7193 - recall_8: 0.4091 - f1_score: 0.5216 - val_loss: 0.6363 - val_accuracy: 0.6568 - val_precision_8: 0.9568 - val_recall_8: 0.0915 - val_f1_score: 0.1671 - 66s/epoch - 13ms/step\n",
      "Epoch 12/20\n",
      "5162/5162 - 81s - loss: 0.6344 - accuracy: 0.6295 - precision_8: 0.7330 - recall_8: 0.4074 - f1_score: 0.5237 - val_loss: 0.6333 - val_accuracy: 0.6638 - val_precision_8: 0.9336 - val_recall_8: 0.1141 - val_f1_score: 0.2034 - 81s/epoch - 16ms/step\n",
      "Epoch 13/20\n",
      "5162/5162 - 82s - loss: 0.6327 - accuracy: 0.6313 - precision_8: 0.7398 - recall_8: 0.4049 - f1_score: 0.5234 - val_loss: 0.6317 - val_accuracy: 0.6660 - val_precision_8: 0.9383 - val_recall_8: 0.1198 - val_f1_score: 0.2125 - 82s/epoch - 16ms/step\n",
      "Epoch 14/20\n",
      "5162/5162 - 80s - loss: 0.6305 - accuracy: 0.6344 - precision_8: 0.7445 - recall_8: 0.4093 - f1_score: 0.5282 - val_loss: 0.6240 - val_accuracy: 0.6699 - val_precision_8: 0.9173 - val_recall_8: 0.1345 - val_f1_score: 0.2346 - 80s/epoch - 16ms/step\n",
      "Epoch 15/20\n",
      "5162/5162 - 77s - loss: 0.6296 - accuracy: 0.6346 - precision_8: 0.7482 - recall_8: 0.4056 - f1_score: 0.5261 - val_loss: 0.6351 - val_accuracy: 0.6619 - val_precision_8: 0.9273 - val_recall_8: 0.1096 - val_f1_score: 0.1960 - 77s/epoch - 15ms/step\n"
     ]
    },
    {
     "data": {
      "text/plain": [
       "<keras.callbacks.History at 0x27a3f1abac0>"
      ]
     },
     "execution_count": 46,
     "metadata": {},
     "output_type": "execute_result"
    }
   ],
   "source": [
    "EPOCHS = 20\n",
    "BATCH_SIZE = 64\n",
    "early_stop = EarlyStopping(monitor='val_loss', patience=5, restore_best_weights=True)\n",
    "\n",
    "model_standard = build_model(attention=False)\n",
    "model_standard.compile(optimizer=tf.keras.optimizers.Adam(0.001, clipnorm=1.0),\n",
    "                       loss='binary_crossentropy',\n",
    "                       metrics=['accuracy', Precision(), Recall(), F1Score()])\n",
    "model_standard.fit(X_train, y_train, validation_data=(X_test, y_test),\n",
    "                   epochs=EPOCHS, batch_size=BATCH_SIZE, callbacks=[early_stop], verbose=2)"
   ]
  },
  {
   "cell_type": "markdown",
   "id": "b53481ee",
   "metadata": {},
   "source": [
    "# Model with Focal Loss"
   ]
  },
  {
   "cell_type": "code",
   "execution_count": 50,
   "id": "90e1e3c3",
   "metadata": {},
   "outputs": [
    {
     "name": "stdout",
     "output_type": "stream",
     "text": [
      "Epoch 1/20\n",
      "5162/5162 - 78s - loss: 3.0795e-05 - accuracy: 0.5000 - precision_14: 0.5000 - recall_14: 1.0000 - f1_score: 0.6667 - val_loss: 4.0690e-13 - val_accuracy: 0.3761 - val_precision_14: 0.3761 - val_recall_14: 1.0000 - val_f1_score: 0.5466 - 78s/epoch - 15ms/step\n",
      "Epoch 2/20\n",
      "5162/5162 - 80s - loss: 9.5846e-09 - accuracy: 0.5000 - precision_14: 0.5000 - recall_14: 1.0000 - f1_score: 0.6667 - val_loss: 5.5257e-16 - val_accuracy: 0.3761 - val_precision_14: 0.3761 - val_recall_14: 1.0000 - val_f1_score: 0.5466 - 80s/epoch - 16ms/step\n",
      "Epoch 3/20\n",
      "5162/5162 - 90s - loss: 1.8632e-09 - accuracy: 0.5000 - precision_14: 0.5000 - recall_14: 1.0000 - f1_score: 0.6667 - val_loss: 6.5273e-19 - val_accuracy: 0.3761 - val_precision_14: 0.3761 - val_recall_14: 1.0000 - val_f1_score: 0.5466 - 90s/epoch - 17ms/step\n",
      "Epoch 4/20\n",
      "5162/5162 - 91s - loss: 2.8157e-09 - accuracy: 0.5000 - precision_14: 0.5000 - recall_14: 1.0000 - f1_score: 0.6667 - val_loss: 1.0196e-20 - val_accuracy: 0.3761 - val_precision_14: 0.3761 - val_recall_14: 1.0000 - val_f1_score: 0.5466 - 91s/epoch - 18ms/step\n",
      "Epoch 5/20\n",
      "5162/5162 - 78s - loss: 9.7123e-11 - accuracy: 0.5000 - precision_14: 0.5000 - recall_14: 1.0000 - f1_score: 0.6667 - val_loss: 2.4887e-21 - val_accuracy: 0.3761 - val_precision_14: 0.3761 - val_recall_14: 1.0000 - val_f1_score: 0.5466 - 78s/epoch - 15ms/step\n",
      "Epoch 6/20\n",
      "5162/5162 - 91s - loss: 7.3505e-11 - accuracy: 0.5000 - precision_14: 0.5000 - recall_14: 1.0000 - f1_score: 0.6667 - val_loss: 5.3759e-22 - val_accuracy: 0.3761 - val_precision_14: 0.3761 - val_recall_14: 1.0000 - val_f1_score: 0.5466 - 91s/epoch - 18ms/step\n",
      "Epoch 7/20\n",
      "5162/5162 - 84s - loss: 7.2300e-11 - accuracy: 0.5000 - precision_14: 0.5000 - recall_14: 1.0000 - f1_score: 0.6667 - val_loss: 1.5929e-22 - val_accuracy: 0.3761 - val_precision_14: 0.3761 - val_recall_14: 1.0000 - val_f1_score: 0.5466 - 84s/epoch - 16ms/step\n",
      "Epoch 8/20\n",
      "5162/5162 - 72s - loss: 1.9586e-09 - accuracy: 0.5000 - precision_14: 0.5000 - recall_14: 1.0000 - f1_score: 0.6667 - val_loss: 1.5929e-22 - val_accuracy: 0.3761 - val_precision_14: 0.3761 - val_recall_14: 1.0000 - val_f1_score: 0.5466 - 72s/epoch - 14ms/step\n",
      "Epoch 9/20\n",
      "5162/5162 - 97s - loss: 2.5108e-11 - accuracy: 0.5000 - precision_14: 0.5000 - recall_14: 1.0000 - f1_score: 0.6667 - val_loss: 1.5929e-22 - val_accuracy: 0.3761 - val_precision_14: 0.3761 - val_recall_14: 1.0000 - val_f1_score: 0.5466 - 97s/epoch - 19ms/step\n",
      "Epoch 10/20\n",
      "5162/5162 - 96s - loss: 1.5532e-11 - accuracy: 0.5000 - precision_14: 0.5000 - recall_14: 1.0000 - f1_score: 0.6667 - val_loss: 1.5929e-22 - val_accuracy: 0.3761 - val_precision_14: 0.3761 - val_recall_14: 1.0000 - val_f1_score: 0.5466 - 96s/epoch - 19ms/step\n",
      "Epoch 11/20\n",
      "5162/5162 - 102s - loss: 2.1349e-11 - accuracy: 0.5000 - precision_14: 0.5000 - recall_14: 1.0000 - f1_score: 0.6667 - val_loss: 1.5929e-22 - val_accuracy: 0.3761 - val_precision_14: 0.3761 - val_recall_14: 1.0000 - val_f1_score: 0.5466 - 102s/epoch - 20ms/step\n",
      "Epoch 12/20\n",
      "5162/5162 - 92s - loss: 1.1239e-09 - accuracy: 0.5000 - precision_14: 0.5000 - recall_14: 1.0000 - f1_score: 0.6667 - val_loss: 1.5929e-22 - val_accuracy: 0.3761 - val_precision_14: 0.3761 - val_recall_14: 1.0000 - val_f1_score: 0.5466 - 92s/epoch - 18ms/step\n"
     ]
    },
    {
     "data": {
      "text/plain": [
       "<keras.callbacks.History at 0x27907184280>"
      ]
     },
     "execution_count": 50,
     "metadata": {},
     "output_type": "execute_result"
    }
   ],
   "source": [
    "model_focal = build_model(attention=False)\n",
    "model_focal.compile(optimizer='adam', loss=FocalLoss(), metrics=['accuracy', Precision(), Recall(), F1Score()])\n",
    "model_focal.fit(X_train, y_train, validation_data=(X_test, y_test), epochs=EPOCHS,\n",
    "                batch_size=BATCH_SIZE, callbacks=[early_stop], verbose=2)\n"
   ]
  },
  {
   "cell_type": "markdown",
   "id": "8079365c",
   "metadata": {},
   "source": [
    "# Attention Model"
   ]
  },
  {
   "cell_type": "code",
   "execution_count": 51,
   "id": "aa5fde7e",
   "metadata": {},
   "outputs": [
    {
     "name": "stdout",
     "output_type": "stream",
     "text": [
      "Epoch 1/20\n",
      "5162/5162 - 104s - loss: 0.6932 - accuracy: 0.4972 - precision_16: 0.4974 - recall_16: 0.5359 - f1_score: 0.5159 - val_loss: 0.6926 - val_accuracy: 0.6239 - val_precision_16: 0.0000e+00 - val_recall_16: 0.0000e+00 - val_f1_score: 0.0000e+00 - 104s/epoch - 20ms/step\n",
      "Epoch 2/20\n",
      "5162/5162 - 104s - loss: 0.6932 - accuracy: 0.4989 - precision_16: 0.4989 - recall_16: 0.4683 - f1_score: 0.4831 - val_loss: 0.6931 - val_accuracy: 0.6239 - val_precision_16: 0.0000e+00 - val_recall_16: 0.0000e+00 - val_f1_score: 0.0000e+00 - 104s/epoch - 20ms/step\n",
      "Epoch 3/20\n",
      "5162/5162 - 103s - loss: 0.6932 - accuracy: 0.5009 - precision_16: 0.5011 - recall_16: 0.4290 - f1_score: 0.4622 - val_loss: 0.6955 - val_accuracy: 0.3761 - val_precision_16: 0.3761 - val_recall_16: 1.0000 - val_f1_score: 0.5466 - 103s/epoch - 20ms/step\n",
      "Epoch 4/20\n",
      "5162/5162 - 102s - loss: 0.6932 - accuracy: 0.4983 - precision_16: 0.4983 - recall_16: 0.5160 - f1_score: 0.5070 - val_loss: 0.6933 - val_accuracy: 0.3761 - val_precision_16: 0.3761 - val_recall_16: 1.0000 - val_f1_score: 0.5466 - 102s/epoch - 20ms/step\n",
      "Epoch 5/20\n",
      "5162/5162 - 92s - loss: 0.6932 - accuracy: 0.4988 - precision_16: 0.4989 - recall_16: 0.5362 - f1_score: 0.5169 - val_loss: 0.6930 - val_accuracy: 0.6239 - val_precision_16: 0.0000e+00 - val_recall_16: 0.0000e+00 - val_f1_score: 0.0000e+00 - 92s/epoch - 18ms/step\n",
      "Epoch 6/20\n",
      "5162/5162 - 102s - loss: 0.6932 - accuracy: 0.5005 - precision_16: 0.5005 - recall_16: 0.5438 - f1_score: 0.5212 - val_loss: 0.6931 - val_accuracy: 0.6239 - val_precision_16: 0.0000e+00 - val_recall_16: 0.0000e+00 - val_f1_score: 0.0000e+00 - 102s/epoch - 20ms/step\n"
     ]
    },
    {
     "data": {
      "text/plain": [
       "<keras.callbacks.History at 0x2791da46430>"
      ]
     },
     "execution_count": 51,
     "metadata": {},
     "output_type": "execute_result"
    }
   ],
   "source": [
    "model_attention = build_model(attention=True)\n",
    "model_attention.compile(optimizer='adam', loss='binary_crossentropy', metrics=['accuracy', Precision(), Recall(), F1Score()])\n",
    "model_attention.fit(X_train, y_train, validation_data=(X_test, y_test),\n",
    "                    epochs=EPOCHS, batch_size=BATCH_SIZE, callbacks=[early_stop], verbose=2)"
   ]
  },
  {
   "cell_type": "markdown",
   "id": "954200f6",
   "metadata": {},
   "source": [
    "# Data augmentation"
   ]
  },
  {
   "cell_type": "code",
   "execution_count": 52,
   "id": "540f9998",
   "metadata": {},
   "outputs": [],
   "source": [
    "attack_idx = np.where(y_train == 1)[0]\n",
    "X_augmented = np.array([jitter(sample) for sample in X_train[attack_idx]])\n",
    "y_augmented = np.ones(len(X_augmented))\n",
    "X_train_aug = np.concatenate([X_train, X_augmented])\n",
    "y_train_aug = np.concatenate([y_train, y_augmented])"
   ]
  },
  {
   "cell_type": "code",
   "execution_count": 53,
   "id": "526492ed",
   "metadata": {},
   "outputs": [
    {
     "name": "stdout",
     "output_type": "stream",
     "text": [
      "Epoch 1/20\n",
      "7742/7742 - 150s - loss: 0.4707 - accuracy: 0.6935 - precision_18: 0.8337 - recall_18: 0.6748 - f1_score: 0.7459 - val_loss: 0.6789 - val_accuracy: 0.6479 - val_precision_18: 0.9307 - val_recall_18: 0.0691 - val_f1_score: 0.1286 - 150s/epoch - 19ms/step\n",
      "Epoch 2/20\n",
      "7742/7742 - 125s - loss: 0.4540 - accuracy: 0.6944 - precision_18: 0.8897 - recall_18: 0.6182 - f1_score: 0.7295 - val_loss: 0.6776 - val_accuracy: 0.6733 - val_precision_18: 0.9502 - val_recall_18: 0.1387 - val_f1_score: 0.2421 - 125s/epoch - 16ms/step\n",
      "Epoch 3/20\n",
      "7742/7742 - 109s - loss: 0.4417 - accuracy: 0.7175 - precision_18: 0.8786 - recall_18: 0.6687 - f1_score: 0.7594 - val_loss: 0.6190 - val_accuracy: 0.7022 - val_precision_18: 0.7596 - val_recall_18: 0.3048 - val_f1_score: 0.4350 - 109s/epoch - 14ms/step\n",
      "Epoch 4/20\n",
      "7742/7742 - 130s - loss: 0.4249 - accuracy: 0.7427 - precision_18: 0.9009 - recall_18: 0.6900 - f1_score: 0.7815 - val_loss: 0.6162 - val_accuracy: 0.7137 - val_precision_18: 0.7828 - val_recall_18: 0.3303 - val_f1_score: 0.4646 - 130s/epoch - 17ms/step\n",
      "Epoch 5/20\n",
      "7742/7742 - 127s - loss: 0.4182 - accuracy: 0.7517 - precision_18: 0.9071 - recall_18: 0.6991 - f1_score: 0.7897 - val_loss: 0.6102 - val_accuracy: 0.7028 - val_precision_18: 0.8151 - val_recall_18: 0.2712 - val_f1_score: 0.4070 - 127s/epoch - 16ms/step\n",
      "Epoch 6/20\n",
      "7742/7742 - 124s - loss: 0.4139 - accuracy: 0.7569 - precision_18: 0.9103 - recall_18: 0.7048 - f1_score: 0.7945 - val_loss: 0.6047 - val_accuracy: 0.6915 - val_precision_18: 0.8725 - val_recall_18: 0.2105 - val_f1_score: 0.3392 - 124s/epoch - 16ms/step\n",
      "Epoch 7/20\n",
      "7742/7742 - 118s - loss: 0.4121 - accuracy: 0.7583 - precision_18: 0.9142 - recall_18: 0.7034 - f1_score: 0.7951 - val_loss: 0.6014 - val_accuracy: 0.7179 - val_precision_18: 0.7352 - val_recall_18: 0.3908 - val_f1_score: 0.5103 - 118s/epoch - 15ms/step\n",
      "Epoch 8/20\n",
      "7742/7742 - 119s - loss: 0.4089 - accuracy: 0.7620 - precision_18: 0.9118 - recall_18: 0.7119 - f1_score: 0.7995 - val_loss: 0.6220 - val_accuracy: 0.6776 - val_precision_18: 0.5706 - val_recall_18: 0.5772 - val_f1_score: 0.5739 - 119s/epoch - 15ms/step\n",
      "Epoch 9/20\n",
      "7742/7742 - 123s - loss: 0.4070 - accuracy: 0.7641 - precision_18: 0.9122 - recall_18: 0.7149 - f1_score: 0.8016 - val_loss: 0.5885 - val_accuracy: 0.7158 - val_precision_18: 0.7796 - val_recall_18: 0.3406 - val_f1_score: 0.4741 - 123s/epoch - 16ms/step\n",
      "Epoch 10/20\n",
      "7742/7742 - 115s - loss: 0.4062 - accuracy: 0.7646 - precision_18: 0.9090 - recall_18: 0.7189 - f1_score: 0.8028 - val_loss: 0.5966 - val_accuracy: 0.7043 - val_precision_18: 0.8023 - val_recall_18: 0.2836 - val_f1_score: 0.4191 - 115s/epoch - 15ms/step\n",
      "Epoch 11/20\n",
      "7742/7742 - 119s - loss: 0.4026 - accuracy: 0.7685 - precision_18: 0.9083 - recall_18: 0.7260 - f1_score: 0.8070 - val_loss: 0.5885 - val_accuracy: 0.7151 - val_precision_18: 0.6907 - val_recall_18: 0.4393 - val_f1_score: 0.5370 - 119s/epoch - 15ms/step\n",
      "Epoch 12/20\n",
      "7742/7742 - 129s - loss: 0.4356 - accuracy: 0.7277 - precision_18: 0.8382 - recall_18: 0.7330 - f1_score: 0.7821 - val_loss: 0.6644 - val_accuracy: 0.6520 - val_precision_18: 0.5481 - val_recall_18: 0.4252 - val_f1_score: 0.4789 - 129s/epoch - 17ms/step\n",
      "Epoch 13/20\n",
      "7742/7742 - 128s - loss: 0.4048 - accuracy: 0.7655 - precision_18: 0.9010 - recall_18: 0.7283 - f1_score: 0.8055 - val_loss: 0.5758 - val_accuracy: 0.7239 - val_precision_18: 0.7505 - val_recall_18: 0.3984 - val_f1_score: 0.5205 - 128s/epoch - 16ms/step\n",
      "Epoch 14/20\n",
      "7742/7742 - 114s - loss: 0.3960 - accuracy: 0.7760 - precision_18: 0.9108 - recall_18: 0.7361 - f1_score: 0.8142 - val_loss: 0.5885 - val_accuracy: 0.7095 - val_precision_18: 0.6390 - val_recall_18: 0.5233 - val_f1_score: 0.5754 - 114s/epoch - 15ms/step\n",
      "Epoch 15/20\n",
      "7742/7742 - 125s - loss: 0.3922 - accuracy: 0.7803 - precision_18: 0.9110 - recall_18: 0.7431 - f1_score: 0.8185 - val_loss: 0.5844 - val_accuracy: 0.7209 - val_precision_18: 0.6789 - val_recall_18: 0.4893 - val_f1_score: 0.5687 - 125s/epoch - 16ms/step\n",
      "Epoch 16/20\n",
      "7742/7742 - 110s - loss: 0.3913 - accuracy: 0.7804 - precision_18: 0.9108 - recall_18: 0.7433 - f1_score: 0.8186 - val_loss: 0.5800 - val_accuracy: 0.7197 - val_precision_18: 0.7473 - val_recall_18: 0.3850 - val_f1_score: 0.5082 - 110s/epoch - 14ms/step\n",
      "Epoch 17/20\n",
      "7742/7742 - 122s - loss: 0.3870 - accuracy: 0.7846 - precision_18: 0.9111 - recall_18: 0.7501 - f1_score: 0.8228 - val_loss: 0.5693 - val_accuracy: 0.7175 - val_precision_18: 0.7542 - val_recall_18: 0.3693 - val_f1_score: 0.4958 - 122s/epoch - 16ms/step\n",
      "Epoch 18/20\n",
      "7742/7742 - 117s - loss: 0.3836 - accuracy: 0.7874 - precision_18: 0.9104 - recall_18: 0.7554 - f1_score: 0.8257 - val_loss: 0.5528 - val_accuracy: 0.7331 - val_precision_18: 0.6932 - val_recall_18: 0.5209 - val_f1_score: 0.5948 - 117s/epoch - 15ms/step\n",
      "Epoch 19/20\n",
      "7742/7742 - 118s - loss: 0.3816 - accuracy: 0.7892 - precision_18: 0.9109 - recall_18: 0.7579 - f1_score: 0.8274 - val_loss: 0.5594 - val_accuracy: 0.7311 - val_precision_18: 0.6847 - val_recall_18: 0.5285 - val_f1_score: 0.5966 - 118s/epoch - 15ms/step\n",
      "Epoch 20/20\n",
      "7742/7742 - 98s - loss: 0.3783 - accuracy: 0.7924 - precision_18: 0.9101 - recall_18: 0.7642 - f1_score: 0.8307 - val_loss: 0.5456 - val_accuracy: 0.7313 - val_precision_18: 0.7472 - val_recall_18: 0.4315 - val_f1_score: 0.5470 - 98s/epoch - 13ms/step\n"
     ]
    },
    {
     "data": {
      "text/plain": [
       "<keras.callbacks.History at 0x2791ecd5520>"
      ]
     },
     "execution_count": 53,
     "metadata": {},
     "output_type": "execute_result"
    }
   ],
   "source": [
    "model_aug = build_model(attention=False)\n",
    "model_aug.compile(optimizer='adam', loss='binary_crossentropy', metrics=['accuracy', Precision(), Recall(), F1Score()])\n",
    "model_aug.fit(X_train_aug, y_train_aug, validation_data=(X_test, y_test), epochs=EPOCHS,\n",
    "              batch_size=BATCH_SIZE, callbacks=[early_stop], verbose=2)"
   ]
  },
  {
   "cell_type": "markdown",
   "id": "0403a8f1",
   "metadata": {},
   "source": [
    "# Ensemble"
   ]
  },
  {
   "cell_type": "code",
   "execution_count": 73,
   "id": "b7e4bd73",
   "metadata": {},
   "outputs": [
    {
     "name": "stdout",
     "output_type": "stream",
     "text": [
      "2069/2069 [==============================] - 10s 5ms/step\n",
      "2069/2069 [==============================] - 10s 5ms/step\n",
      "2069/2069 [==============================] - 11s 5ms/step\n",
      "2069/2069 [==============================] - 11s 5ms/step\n"
     ]
    }
   ],
   "source": [
    "models_list = [model_standard, model_focal, model_attention, model_aug]\n",
    "preds = [m.predict(X_test) for m in models_list]\n",
    "ensemble_preds = np.mean(preds, axis=0)\n",
    "y_pred = (ensemble_preds > 0.5).astype(int) "
   ]
  },
  {
   "cell_type": "code",
   "execution_count": 74,
   "id": "a8c1d799",
   "metadata": {},
   "outputs": [
    {
     "name": "stdout",
     "output_type": "stream",
     "text": [
      "\n",
      "--- ENSEMBLE PERFORMANCE ---\n",
      "              precision    recall  f1-score   support\n",
      "\n",
      "      Normal       0.92      0.02      0.05     41303\n",
      "      Attack       0.38      1.00      0.55     24899\n",
      "\n",
      "    accuracy                           0.39     66202\n",
      "   macro avg       0.65      0.51      0.30     66202\n",
      "weighted avg       0.72      0.39      0.24     66202\n",
      "\n",
      "Accuracy: 0.3894\n",
      "Precision: 0.3809\n",
      "Recall: 0.9965\n",
      "F1-score: 0.5511\n"
     ]
    }
   ],
   "source": [
    "\n",
    "print(\"\\n--- ENSEMBLE PERFORMANCE ---\")\n",
    "print(classification_report(y_test, y_pred, target_names=['Normal', 'Attack']))\n",
    "print(f\"Accuracy: {accuracy_score(y_test, y_pred):.4f}\")\n",
    "print(f\"Precision: {precision_score(y_test, y_pred):.4f}\")\n",
    "print(f\"Recall: {recall_score(y_test, y_pred):.4f}\")\n",
    "print(f\"F1-score: {f1_score(y_test, y_pred):.4f}\")"
   ]
  },
  {
   "cell_type": "code",
   "execution_count": 75,
   "id": "4e6f4e44",
   "metadata": {},
   "outputs": [
    {
     "data": {
      "image/png": "[encoded data removed]",
      "text/plain": [
       "<Figure size 600x500 with 2 Axes>"
      ]
     },
     "metadata": {},
     "output_type": "display_data"
    }
   ],
   "source": [
    "cm = confusion_matrix(y_test, y_pred)\n",
    "plt.figure(figsize=(6, 5))\n",
    "sns.heatmap(cm, annot=True, fmt='d', cmap='Blues', xticklabels=['Normal', 'Attack'], yticklabels=['Normal', 'Attack'])\n",
    "plt.title(\"Confusion Matrix - Ensemble Model\")\n",
    "plt.xlabel(\"Predicted\")\n",
    "plt.ylabel(\"True\")\n",
    "plt.show()"
   ]
  }
 ],
 "metadata": {
  "kernelspec": {
   "display_name": "v2x_env",
   "language": "python",
   "name": "python3"
  },
  "language_info": {
   "codemirror_mode": {
    "name": "ipython",
    "version": 3
   },
   "file_extension": ".py",
   "mimetype": "text/x-python",
   "name": "python",
   "nbconvert_exporter": "python",
   "pygments_lexer": "ipython3",
   "version": "3.9.15"
  }
 },
 "nbformat": 4,
 "nbformat_minor": 5
}
